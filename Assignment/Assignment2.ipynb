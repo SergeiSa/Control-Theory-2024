{
  "nbformat": 4,
  "nbformat_minor": 0,
  "metadata": {
    "colab": {
      "provenance": []
    },
    "kernelspec": {
      "name": "python3",
      "display_name": "Python 3"
    },
    "language_info": {
      "name": "python"
    }
  },
  "cells": [
    {
      "cell_type": "markdown",
      "source": [
        "# Task\n",
        "\n",
        "Given a system:\n",
        "\n",
        "<!-- A = \n",
        "    [0 0 1 0;\n",
        "     0 0 0 1;\n",
        "     n -2 -10/n -2;\n",
        "     -5 -n/10 0 -3]; -->\n",
        "\n",
        "$$ \n",
        "\\begin{cases}\n",
        "\\dot x = \n",
        "\\begin{bmatrix} \n",
        "0 & 0 & 1 & 0 \\\\\n",
        "0 & 0 & 0 & 1 \\\\\n",
        " n & -2 & -10/n & -2 \\\\\n",
        "-5 & -n/10 & 0 & -3\n",
        "\\end{bmatrix}\n",
        "x\n",
        "+ \n",
        "\\begin{bmatrix} \n",
        "0 \\\\\n",
        "0 \\\\\n",
        "-1\\\\\n",
        "1\n",
        "\\end{bmatrix}\n",
        "u \\\\\n",
        "y = \\begin{bmatrix} \n",
        "1 & 1 & 0 & 0\n",
        "\\end{bmatrix} x\n",
        "\\end{cases}\n",
        "$$\n",
        "\n",
        "where $n$ is your number in your group list (ask your TA to give you your number if you don't have one).\n",
        "\n",
        "\n",
        "\n",
        "1.   Find its transfer function representation ($y(s) / u(s) = W(s)$).\n",
        "1.   Propose an ODE representation of the system.\n",
        "1.   Propose a controller (control law $u = -Kx$) that makes the system stable. Do it via pole placement and as an LQR. For LQR show the cost function you chose.\n",
        "1.   Show stability of the closed-loop system via eigenvalue analysis.\n",
        "1.   Find stability margins by analysing Bode diagram for the system.\n",
        "1.   Simulate closed-loop system.\n",
        "1.   Modify the control law in such a way that the state of the system converges to $x_0 = \\begin{bmatrix} \n",
        "2+0.1n \\\\\n",
        "n-5 \\\\\n",
        "0 \\\\\n",
        "0 \n",
        "\\end{bmatrix}$. Show resulting control law. Simulate the system and demostrate convergence via graphs of state dynamics and error dynamics.\n",
        "1. Discretize the system with $\\Delta t = 0.01$. Write equations of the discrete dinamics.\n",
        "1. Propose a control law for the discrete system via pole-placement and LQR (show cost function for the LQR).\n",
        "1. Show eigenvalue analisys of the slosed-loop dynamics of the discrete system (with the proposed discrete control law. Demonstrate stability.\n",
        "1. Simulate the discrete system. Show graphs.\n",
        "\n",
        "\n",
        "\n"
      ],
      "metadata": {
        "id": "jkpb8xiEzdwR"
      }
    }
  ]
}